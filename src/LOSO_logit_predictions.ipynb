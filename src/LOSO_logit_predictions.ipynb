{
 "cells": [
  {
   "cell_type": "markdown",
   "id": "c8a4e40a",
   "metadata": {},
   "source": [
    "# Import libraries"
   ]
  },
  {
   "cell_type": "code",
   "execution_count": 2,
   "id": "e207e678",
   "metadata": {},
   "outputs": [],
   "source": [
    "import pandas as pd\n",
    "import numpy as np\n",
    "import os\n",
    "import config\n",
    "from sklearn.preprocessing import OrdinalEncoder\n",
    "from sklearn.model_selection import LeaveOneGroupOut\n",
    "from sklearn.model_selection import cross_val_predict\n",
    "from sklearn.linear_model import LogisticRegression\n",
    "from sklearn.metrics import balanced_accuracy_score, accuracy_score"
   ]
  },
  {
   "cell_type": "markdown",
   "id": "7512d49e",
   "metadata": {},
   "source": [
    "# Load data"
   ]
  },
  {
   "cell_type": "code",
   "execution_count": null,
   "id": "1ff53e65",
   "metadata": {},
   "outputs": [],
   "source": [
    "X = pd.read_csv(os.path.join(config.CLEAN_DIR, \"taxonomic_features.csv\"), index_col=[0, 1])\n",
    "y = pd.read_csv(os.path.join(config.CLEAN_DIR, \"is_healthy.csv\"), index_col=[0, 1])\n",
    "display(X.head())\n",
    "display(y.head())"
   ]
  },
  {
   "cell_type": "markdown",
   "id": "9cba1566",
   "metadata": {},
   "source": [
    "# Generate group splits"
   ]
  },
  {
   "cell_type": "code",
   "execution_count": null,
   "id": "089ceb33",
   "metadata": {},
   "outputs": [],
   "source": [
    "# indentify groups to partition dataset\n",
    "\n",
    "sample_studies = np.array(X.index.get_level_values(0))\n",
    "o = OrdinalEncoder()\n",
    "groups = o.fit_transform(sample_studies.reshape((len(sample_studies), 1))).flatten()\n",
    "logo = LeaveOneGroupOut()"
   ]
  },
  {
   "cell_type": "markdown",
   "id": "3e20fccc",
   "metadata": {},
   "source": [
    "# Generate logit predictions in leave-one-study-out cross validation!"
   ]
  },
  {
   "cell_type": "code",
   "execution_count": null,
   "id": "abec0ae0",
   "metadata": {},
   "outputs": [],
   "source": [
    "# instantiate the logistic regression classifier\n",
    "clf = LogisticRegression(random_state=42, penalty=\"l1\", solver=\"liblinear\", C=config.REGULARIZATION, class_weight=\"balanced\")\n",
    "\n",
    "# generate logit predictions for each left out study\n",
    "GMHI2_scores = cross_val_predict(clf, X > config.PRESENCE_CUTOFF, y.values.flatten(), method=\"decision_function\",\n",
    "    groups=groups, cv=logo, verbose=2, n_jobs=-1\n",
    ")\n",
    "\n",
    "GMHI2_scores = pd.DataFrame(GMHI2_scores, index=y.index, columns=[\"GMHI2\"])\n",
    "GMHI2_scores"
   ]
  },
  {
   "cell_type": "markdown",
   "id": "580cc182",
   "metadata": {},
   "source": [
    "# Save GMHI2 scores"
   ]
  },
  {
   "cell_type": "code",
   "execution_count": null,
   "id": "93151426",
   "metadata": {},
   "outputs": [],
   "source": [
    "# GMHI2_scores.to_csv(os.path.join(config.))"
   ]
  }
 ],
 "metadata": {
  "kernelspec": {
   "display_name": "Python 3 (ipykernel)",
   "language": "python",
   "name": "python3"
  },
  "language_info": {
   "codemirror_mode": {
    "name": "ipython",
    "version": 3
   },
   "file_extension": ".py",
   "mimetype": "text/x-python",
   "name": "python",
   "nbconvert_exporter": "python",
   "pygments_lexer": "ipython3",
   "version": "3.7.9"
  }
 },
 "nbformat": 4,
 "nbformat_minor": 5
}
